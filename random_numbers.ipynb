{
 "cells": [
  {
   "cell_type": "code",
   "execution_count": 6,
   "id": "5d1c47c9",
   "metadata": {},
   "outputs": [],
   "source": [
    "import random"
   ]
  },
  {
   "cell_type": "code",
   "execution_count": 7,
   "id": "0b165e05",
   "metadata": {},
   "outputs": [
    {
     "data": {
      "text/plain": [
       "-26"
      ]
     },
     "execution_count": 7,
     "metadata": {},
     "output_type": "execute_result"
    }
   ],
   "source": [
    "random.randint(-90, 90)"
   ]
  },
  {
   "cell_type": "code",
   "execution_count": 8,
   "id": "009a795f",
   "metadata": {},
   "outputs": [
    {
     "data": {
      "text/plain": [
       "0.5424812061993844"
      ]
     },
     "execution_count": 8,
     "metadata": {},
     "output_type": "execute_result"
    }
   ],
   "source": [
    "random.random()"
   ]
  },
  {
   "cell_type": "code",
   "execution_count": 10,
   "id": "7f814b3f",
   "metadata": {},
   "outputs": [
    {
     "data": {
      "text/plain": [
       "-49.25627802828504"
      ]
     },
     "execution_count": 10,
     "metadata": {},
     "output_type": "execute_result"
    }
   ],
   "source": [
    "random_number = random.randint(-90,89) + random.random()\n",
    "random_number"
   ]
  },
  {
   "cell_type": "code",
   "execution_count": 14,
   "id": "3a2a6dff",
   "metadata": {},
   "outputs": [
    {
     "data": {
      "text/plain": [
       "[-71.3970580572498,\n",
       " 21.74467708859495,\n",
       " 9.325428788582471,\n",
       " 79.60365883708081,\n",
       " -32.38229843958161,\n",
       " 41.58451958147325,\n",
       " 76.78557532620707,\n",
       " 29.41396119169147,\n",
       " -54.08128195018765,\n",
       " -75.29185526338588]"
      ]
     },
     "execution_count": 14,
     "metadata": {},
     "output_type": "execute_result"
    }
   ],
   "source": [
    "x = 1\n",
    "latitudes = []\n",
    "while x < 11:\n",
    "    random_lat = random.randint(-90, 89) + random.random()\n",
    "    latitudes.append(random_lat)\n",
    "    x += 1\n",
    "latitudes"
   ]
  },
  {
   "cell_type": "code",
   "execution_count": 16,
   "id": "ba6eb2cc",
   "metadata": {},
   "outputs": [
    {
     "data": {
      "text/plain": [
       "9"
      ]
     },
     "execution_count": 16,
     "metadata": {},
     "output_type": "execute_result"
    }
   ],
   "source": [
    "random.randrange(-90,90, step=3)"
   ]
  },
  {
   "cell_type": "code",
   "execution_count": 17,
   "id": "da5d5f05",
   "metadata": {},
   "outputs": [
    {
     "data": {
      "text/plain": [
       "-0.8563420746906871"
      ]
     },
     "execution_count": 17,
     "metadata": {},
     "output_type": "execute_result"
    }
   ],
   "source": [
    "random.uniform(-90,90)"
   ]
  },
  {
   "cell_type": "code",
   "execution_count": 26,
   "id": "2071cd3f",
   "metadata": {},
   "outputs": [],
   "source": [
    "#Import the NumPy module\n",
    "import numpy as np"
   ]
  },
  {
   "cell_type": "code",
   "execution_count": 27,
   "id": "4d5a41fc",
   "metadata": {},
   "outputs": [
    {
     "data": {
      "text/plain": [
       "-52.23489056420401"
      ]
     },
     "execution_count": 27,
     "metadata": {},
     "output_type": "execute_result"
    }
   ],
   "source": [
    "np.random.uniform(-90.000,90.000)"
   ]
  },
  {
   "cell_type": "code",
   "execution_count": 28,
   "id": "e58fdc0b",
   "metadata": {},
   "outputs": [
    {
     "data": {
      "text/plain": [
       "array([ 13.7855766 ,  25.2960128 , -68.60707661, -65.47988096,\n",
       "        -5.55445269,  69.55165945, -33.66131141, -15.67102522,\n",
       "       -65.06858588, -88.15759428,  55.94934964,  85.7146502 ,\n",
       "        34.4535908 ,  57.55242297,  79.43556944,  -8.59190577,\n",
       "       -25.6518627 ,  39.59879826,   0.34897863, -58.38303206,\n",
       "        55.75617919,  47.67993436,  11.61933161,  11.49545054,\n",
       "       -52.98035411, -31.93303733, -26.58042766,  42.40366715,\n",
       "         1.7325403 ,  33.91917361,   1.62705139, -72.59903355,\n",
       "       -20.74949903, -28.21604389, -16.76279568, -51.55945254,\n",
       "        74.02299632,   8.28285469,  80.99056744, -79.33429974,\n",
       "        52.12750646,  71.3771054 ,  88.4223234 ,  11.75326609,\n",
       "       -25.5330782 ,  45.17077888,  69.87401368,  29.2102576 ,\n",
       "        70.53554827, -74.47829818])"
      ]
     },
     "execution_count": 28,
     "metadata": {},
     "output_type": "execute_result"
    }
   ],
   "source": [
    "np.random.uniform(-90.000,90.000,size=50)"
   ]
  },
  {
   "cell_type": "code",
   "execution_count": 29,
   "id": "b608ad09",
   "metadata": {},
   "outputs": [],
   "source": [
    "#Import timeit\n",
    "import timeit"
   ]
  },
  {
   "cell_type": "code",
   "execution_count": 30,
   "id": "a7349e77",
   "metadata": {},
   "outputs": [
    {
     "name": "stdout",
     "output_type": "stream",
     "text": [
      "17 µs ± 733 ns per loop (mean ± std. dev. of 7 runs, 100000 loops each)\n"
     ]
    }
   ],
   "source": [
    "%timeit np.random.uniform(-90.000,90.000,size=1500)"
   ]
  },
  {
   "cell_type": "code",
   "execution_count": 31,
   "id": "fef813a3",
   "metadata": {},
   "outputs": [
    {
     "name": "stdout",
     "output_type": "stream",
     "text": [
      "1.55 ms ± 23.6 µs per loop (mean ± std. dev. of 7 runs, 1000 loops each)\n"
     ]
    }
   ],
   "source": [
    "def latitudes(size):\n",
    "    latitudes = []\n",
    "    x = 0\n",
    "    while x < (size):\n",
    "        random_lat = random.randint(-90, 90) + random.random()\n",
    "        latitudes.append(random_lat)\n",
    "        x += 1\n",
    "    return latitudes\n",
    "# Call the function with 1500.\n",
    "%timeit latitudes(1500)"
   ]
  },
  {
   "cell_type": "code",
   "execution_count": null,
   "id": "681a2fbd",
   "metadata": {},
   "outputs": [],
   "source": []
  }
 ],
 "metadata": {
  "kernelspec": {
   "display_name": "PythonData",
   "language": "python",
   "name": "pythondata"
  },
  "language_info": {
   "codemirror_mode": {
    "name": "ipython",
    "version": 3
   },
   "file_extension": ".py",
   "mimetype": "text/x-python",
   "name": "python",
   "nbconvert_exporter": "python",
   "pygments_lexer": "ipython3",
   "version": "3.8.8"
  }
 },
 "nbformat": 4,
 "nbformat_minor": 5
}
